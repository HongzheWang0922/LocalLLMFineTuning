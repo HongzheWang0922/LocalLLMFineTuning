{
 "cells": [
  {
   "cell_type": "code",
   "execution_count": 1,
   "metadata": {},
   "outputs": [
    {
     "name": "stdout",
     "output_type": "stream",
     "text": [
      "转换完成！数据已保存到 ../SoulChatCorpus/SoulChatCorpus-ChatML.json\n"
     ]
    }
   ],
   "source": [
    "import json\n",
    "\n",
    "def convert_to_chatml(input_file, output_file):\n",
    "    \"\"\"\n",
    "    将 JSON 转换为 ChatML 格式 (LLaMA 训练格式)\n",
    "    \"\"\"\n",
    "    with open(input_file, 'r', encoding='utf-8') as f:\n",
    "        data = json.load(f)  # 读取 JSON 文件\n",
    "\n",
    "    chatml_data = []\n",
    "    \n",
    "    for conversation in data:  # 遍历每个对话主题\n",
    "        messages = [{\"role\": \"system\", \"content\": \"你是一个乐于助人的AI助手\"}]  # 添加系统角色\n",
    "        \n",
    "        for msg in conversation[\"messages\"]:\n",
    "            messages.append({\"role\": msg[\"role\"], \"content\": msg[\"content\"]})\n",
    "        \n",
    "        chatml_data.append({\"messages\": messages})\n",
    "\n",
    "    # 保存为 JSONL 格式（每行一个 JSON 对象）\n",
    "    with open(output_file, 'w', encoding='utf-8') as f:\n",
    "        for entry in chatml_data:\n",
    "            f.write(json.dumps(entry, ensure_ascii=False) + \"\\n\")\n",
    "\n",
    "    print(f\"转换完成！数据已保存到 {output_file}\")\n",
    "\n",
    "# 示例调用\n",
    "convert_to_chatml('../SoulChatCorpus/SoulChatCorpus-sft-multi-Turn.json', '../SoulChatCorpus/SoulChatCorpus-ChatML.json')"
   ]
  }
 ],
 "metadata": {
  "kernelspec": {
   "display_name": "LLM",
   "language": "python",
   "name": "python3"
  },
  "language_info": {
   "codemirror_mode": {
    "name": "ipython",
    "version": 3
   },
   "file_extension": ".py",
   "mimetype": "text/x-python",
   "name": "python",
   "nbconvert_exporter": "python",
   "pygments_lexer": "ipython3",
   "version": "3.9.21"
  }
 },
 "nbformat": 4,
 "nbformat_minor": 2
}
